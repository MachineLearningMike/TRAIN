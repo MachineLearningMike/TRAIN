{
 "cells": [
  {
   "attachments": {},
   "cell_type": "markdown",
   "metadata": {},
   "source": [
    "# Training Log"
   ]
  },
  {
   "attachments": {},
   "cell_type": "markdown",
   "metadata": {},
   "source": [
    "- NB21 was enhanced with the following code, over NB20, and showed dramatically reduced losses."
   ]
  },
  {
   "cell_type": "code",
   "execution_count": null,
   "metadata": {},
   "outputs": [],
   "source": [
    "# Logarithmize + Smoothen\n",
    "smallSigma = 1\n",
    "largeSigma = 30\n",
    "\n",
    "head_data_loss = 3 * (smallSigma + largeSigma)\n",
    "eFree = np.zeros( (Data.shape[0] - head_data_loss, len(chosen_markets), len(chosen_fields)), dtype = np.float32 )\n",
    "\n",
    "for market in chosen_markets:\n",
    "    for field in chosen_fields:\n",
    "        P, maP, logP, log_maP, event, eventFree = \\\n",
    "        get_plot_log_feature(markets[market], enFields[field], Data[:, market, field], smallSigma, largeSigma, Data.shape[0] - head_data_loss, NoChart = True)\n",
    "        Data[head_data_loss:, market, field] = eventFree\n",
    "\n",
    "Data = Data[head_data_loss: ]\n",
    "\n",
    "print(Data.shape)"
   ]
  },
  {
   "cell_type": "code",
   "execution_count": null,
   "metadata": {},
   "outputs": [],
   "source": [
    "NB20\n",
    "\n",
    "Epoch 1/3\n",
    "2023-05-25 19:40:17.275237: I tensorflow/stream_executor/cuda/cuda_dnn.cc:384] Loaded cuDNN version 8200\n",
    "2023-05-25 19:40:18.546347: I tensorflow/stream_executor/cuda/cuda_blas.cc:1786] TensorFloat-32 will be used for the matrix multiplication. This will only be logged once.\n",
    "618/618 [==============================] - 194s 277ms/step - loss: 29198790.0000 - mean_squared_error: 29198790.0000 - val_loss: 28408572.0000 - val_mean_squared_error: 28408572.0000\n",
    "Epoch 2/3\n",
    "618/618 [==============================] - 174s 277ms/step - loss: 28434302.0000 - mean_squared_error: 28434302.0000 - val_loss: 28311176.0000 - val_mean_squared_error: 28311176.0000\n",
    "Epoch 3/3\n",
    "618/618 [==============================] - 167s 265ms/step - loss: 28419544.0000 - mean_squared_error: 28419544.0000 - val_loss: 28259174.0000 - val_mean_squared_error: 28259174.0000"
   ]
  },
  {
   "cell_type": "code",
   "execution_count": null,
   "metadata": {},
   "outputs": [],
   "source": [
    "NB21\n",
    "\n",
    "Epoch 1/100\n",
    "2023-05-25 22:40:56.585019: I tensorflow/stream_executor/cuda/cuda_dnn.cc:384] Loaded cuDNN version 8200\n",
    "2023-05-25 22:40:57.861933: I tensorflow/stream_executor/cuda/cuda_blas.cc:1786] TensorFloat-32 will be used for the matrix multiplication. This will only be logged once.\n",
    "Output exceeds the size limit. Open the full output data in a text editor618/618 [==============================] - 195s 286ms/step - loss: 0.0330 - mean_squared_error: 0.0034 - val_loss: 9.0767e-04 - val_mean_squared_error: 0.0037\n",
    "Epoch 2/100\n",
    "618/618 [==============================] - 177s 282ms/step - loss: 7.1860e-04 - mean_squared_error: 0.0034 - val_loss: 7.0616e-04 - val_mean_squared_error: 0.0037\n",
    "Epoch 3/100\n",
    "618/618 [==============================] - 178s 285ms/step - loss: 6.8946e-04 - mean_squared_error: 0.0034 - val_loss: 7.0529e-04 - val_mean_squared_error: 0.0037\n",
    "Epoch 4/100\n",
    "618/618 [==============================] - 177s 283ms/step - loss: 6.8942e-04 - mean_squared_error: 0.0034 - val_loss: 7.0573e-04 - val_mean_squared_error: 0.0037\n",
    "Epoch 5/100\n",
    "618/618 [==============================] - 177s 283ms/step - loss: 6.8910e-04 - mean_squared_error: 0.0034 - val_loss: 7.0552e-04 - val_mean_squared_error: 0.0037"
   ]
  },
  {
   "attachments": {},
   "cell_type": "markdown",
   "metadata": {},
   "source": [
    "- NB30 failed to reproduce NB21, as shown in the following cell, because it has the \"standardization\" part, unlike NB21.\n",
    "- Find with \"TRY 21\", for what cells were added to NB29 for from NB30, in order to reproduce NB21."
   ]
  },
  {
   "cell_type": "code",
   "execution_count": null,
   "metadata": {},
   "outputs": [],
   "source": [
    "Epoch 1/5\n",
    "2023-05-27 08:30:32.486292: I tensorflow/stream_executor/cuda/cuda_dnn.cc:384] Loaded cuDNN version 8200\n",
    "2023-05-27 08:30:33.767349: I tensorflow/stream_executor/cuda/cuda_blas.cc:1786] TensorFloat-32 will be used for the matrix multiplication. This will only be logged once.\n",
    "618/618 [==============================] - 196s 285ms/step - loss: 0.2818 - mean_squared_error: 0.7197 - val_loss: 0.2364 - val_mean_squared_error: 0.7226\n",
    "Epoch 2/5\n",
    "618/618 [==============================] - 186s 294ms/step - loss: 0.2310 - mean_squared_error: 0.7190 - val_loss: 0.2289 - val_mean_squared_error: 0.7227\n",
    "Epoch 3/5\n",
    "618/618 [==============================] - 180s 286ms/step - loss: 0.2282 - mean_squared_error: 0.7190 - val_loss: 0.2282 - val_mean_squared_error: 0.7226\n",
    "Epoch 4/5\n",
    "618/618 [==============================] - 177s 279ms/step - loss: 0.2279 - mean_squared_error: 0.7190 - val_loss: 0.2281 - val_mean_squared_error: 0.7225\n",
    "Epoch 5/5\n",
    "618/618 [==============================] - 176s 279ms/step - loss: 0.2279 - mean_squared_error: 0.7190 - val_loss: 0.2281 - val_mean_squared_error: 0.7225"
   ]
  },
  {
   "attachments": {},
   "cell_type": "markdown",
   "metadata": {},
   "source": [
    "- NB31 succeeded to reproduce NB21, as shown in the following cell, only by removing the \"standardization\" part from NB30.\n",
    "- NB31 keeps \"TRY 21\" cells."
   ]
  },
  {
   "cell_type": "code",
   "execution_count": null,
   "metadata": {},
   "outputs": [],
   "source": [
    "Epoch 1/5\n",
    "2023-05-27 08:55:23.746663: I tensorflow/stream_executor/cuda/cuda_dnn.cc:384] Loaded cuDNN version 8200\n",
    "2023-05-27 08:55:25.032882: I tensorflow/stream_executor/cuda/cuda_blas.cc:1786] TensorFloat-32 will be used for the matrix multiplication. This will only be logged once.\n",
    "618/618 [==============================] - 204s 290ms/step - loss: 0.0321 - mean_squared_error: 0.0036 - val_loss: 7.5261e-04 - val_mean_squared_error: 0.0022\n",
    "Epoch 2/5\n",
    "618/618 [==============================] - 179s 282ms/step - loss: 7.2928e-04 - mean_squared_error: 0.0036 - val_loss: 5.9348e-04 - val_mean_squared_error: 0.0022\n",
    "Epoch 3/5\n",
    "618/618 [==============================] - 179s 283ms/step - loss: 7.0681e-04 - mean_squared_error: 0.0036 - val_loss: 5.9278e-04 - val_mean_squared_error: 0.0022\n",
    "Epoch 4/5\n",
    "618/618 [==============================] - 201s 317ms/step - loss: 7.0670e-04 - mean_squared_error: 0.0036 - val_loss: 5.9294e-04 - val_mean_squared_error: 0.0022\n",
    "Epoch 5/5\n",
    "618/618 [==============================] - 185s 293ms/step - loss: 7.0654e-04 - mean_squared_error: 0.0036 - val_loss: 5.9251e-04 - val_mean_squared_error: 0.0022"
   ]
  },
  {
   "attachments": {},
   "cell_type": "markdown",
   "metadata": {},
   "source": [
    "- We have to confirm the seeming success of NB21 and NB31.\n",
    "- If it's a true success, then we need to find out why the removal of \"standardiation\" contributes to reduce losses."
   ]
  },
  {
   "attachments": {},
   "cell_type": "markdown",
   "metadata": {},
   "source": [
    "#### NB32\n",
    "- Reuse datasets generated by NB31\n",
    "- Remove NB21's 'build_model' and restore NB30's 'build_model, instead, which extensively use 'BatchNormalization' layer.\n",
    "- "
   ]
  }
 ],
 "metadata": {
  "language_info": {
   "name": "python"
  },
  "orig_nbformat": 4
 },
 "nbformat": 4,
 "nbformat_minor": 2
}
